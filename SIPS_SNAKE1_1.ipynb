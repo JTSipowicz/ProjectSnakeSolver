{
  "nbformat": 4,
  "nbformat_minor": 0,
  "metadata": {
    "colab": {
      "name": "SIPS-SNAKE1.1.ipynb",
      "provenance": [],
      "collapsed_sections": []
    },
    "kernelspec": {
      "name": "python3",
      "display_name": "Python 3"
    },
    "language_info": {
      "name": "python"
    }
  },
  "cells": [
    {
      "cell_type": "markdown",
      "metadata": {
        "id": "94uEfblemQCl"
      },
      "source": [
        "**Snake Game 1.1**"
      ]
    },
    {
      "cell_type": "code",
      "metadata": {
        "colab": {
          "base_uri": "https://localhost:8080/"
        },
        "id": "dLJd-zlwmLb0",
        "outputId": "44515eba-2a16-4869-b430-38a08b1c9480"
      },
      "source": [
        "#1.1 Establish Connection with Google Colab with Google Drive Repository\n",
        "from google.colab import drive\n",
        "\n",
        "drive.mount('/content/drive', force_remount=True)\n",
        "\n",
        "# enter the foldername in your Drive where you can save you files\n",
        "# 'Game' folder containing the '.py', 'gameStates' folders.\n",
        "# e.g. 'Assignment1/cs4347/'\n",
        "FOLDERNAME = \"SnakeSolver/Game\"\n",
        "\n",
        "assert FOLDERNAME is not None, \"[!] Enter the foldername.\"\n",
        "\n",
        "%cd drive/My\\ Drive\n",
        "%cp -r $FOLDERNAME ../../\n",
        "%cd ../../"
      ],
      "execution_count": 1,
      "outputs": [
        {
          "output_type": "stream",
          "text": [
            "Mounted at /content/drive\n",
            "/content/drive/My Drive\n",
            "/content\n"
          ],
          "name": "stdout"
        }
      ]
    }
  ]
}